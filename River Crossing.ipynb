{
 "cells": [
  {
   "cell_type": "code",
   "execution_count": 2,
   "metadata": {},
   "outputs": [],
   "source": [
    "import os \n",
    "import time \n",
    "\n",
    "names = {\"F\": \"Farmer\",\n",
    "         \"W\": \"Wolf\",\n",
    "         \"G\": \"Goat\",\n",
    "         \"C\": \"Cabbage\"}\n",
    "\n",
    "forbidden_states = [{\"W\", \"G\"}, {\"G\", \"C\"}, {\"G\", \"C\", \"W\"}]\n"
   ]
  },
  {
   "cell_type": "code",
   "execution_count": 3,
   "metadata": {},
   "outputs": [],
   "source": [
    "def print_story():\n",
    "    print(\"\"\"\n",
    "#### WOLF, GOAT and CABBAGE PROBLEM ####\n",
    "\n",
    "Once upon a time a farmer went to a market and purchased a wolf, a goat, and a cabbage. On his way home, the farmer came\n",
    "to the bank of a river and rented a boat. But crossing the river by boat, the farmer could carry only himself and a single\n",
    "one of his purchases: the wolf, the goat, or the cabbage.\n",
    "\n",
    "If left unattended together, the wolf would eat the goat, or the goat would eat the cabbage.\n",
    "\n",
    "The farmer's challenge was to carry himself and his purchases to the far bank of the river, leaving each purchase intact.\n",
    "How did he do it?\n",
    "\"\"\")\n",
    "    input(\"Press enter to continue.\")"
   ]
  },
  {
   "cell_type": "code",
   "execution_count": 4,
   "metadata": {},
   "outputs": [],
   "source": [
    "def clear():\n",
    "     print(\"*\" * 60, \"\\n\")"
   ]
  },
  {
   "cell_type": "code",
   "execution_count": 5,
   "metadata": {},
   "outputs": [],
   "source": [
    "def print_state(state):\n",
    "    left_bank, right_bank = state\n",
    "    print(\"#### CURRENT STATE OF PUZZLE ####\")\n",
    "    print()\n",
    "    left_bank_display = [names[item] for item in left_bank]\n",
    "    right_bank_display = [names[item] for item in right_bank]\n",
    "    print(left_bank_display, \"|\", right_bank_display if right_bank else \"[]\")"
   ]
  },
  {
   "cell_type": "code",
   "execution_count": 6,
   "metadata": {},
   "outputs": [],
   "source": [
    "def get_move():\n",
    "    print(\"Which item do you wish to take across the river?\")\n",
    "    answer = \"\"\n",
    "    while answer.upper() not in [\"F\", \"W\", \"G\", \"C\"]:\n",
    "        answer = input(\"Just Farmer (f), Wolf (w), Goat (g) or Cabbage (c)? \")\n",
    "\n",
    "    return answer.upper()"
   ]
  },
  {
   "cell_type": "code",
   "execution_count": 7,
   "metadata": {},
   "outputs": [],
   "source": [
    "def process_move(move, state):\n",
    "    # We need to \"think ahead\" to see if move is illegal.\n",
    "    temp_state = [state[0].copy(), state[1].copy()]\n",
    "    containing_set = 0 if move in state[0] else 1\n",
    "    if \"F\" not in state[containing_set]:\n",
    "        print(\"Illegal move.\")\n",
    "        print()\n",
    "        time.sleep(1)\n",
    "        return state\n",
    "    if containing_set == 0:\n",
    "        temp_state[0].difference_update({move, \"F\"})\n",
    "        temp_state[1].update([move, \"F\"])\n",
    "    elif containing_set == 1:\n",
    "        temp_state[1].difference_update({move, \"F\"})\n",
    "        temp_state[0].update([move, \"F\"])\n",
    "    if temp_state[0] not in forbidden_states and temp_state[1] not in forbidden_states:\n",
    "        state = [temp_state[0].copy(), temp_state[1].copy()]\n",
    "    else:\n",
    "        print(\"Illegal move.\")\n",
    "        print()\n",
    "        time.sleep(1)\n",
    "    print()\n",
    "    return state\n",
    "\n"
   ]
  },
  {
   "cell_type": "code",
   "execution_count": 8,
   "metadata": {},
   "outputs": [],
   "source": [
    "def is_win(state):\n",
    "    return state[1] == {\"F\", \"W\", \"G\", \"C\"}"
   ]
  },
  {
   "cell_type": "code",
   "execution_count": 9,
   "metadata": {},
   "outputs": [],
   "source": [
    "def main():\n",
    "    left_bank = {\"F\", \"W\", \"G\", \"C\"}\n",
    "    right_bank = set()\n",
    "    state = [left_bank, right_bank]\n",
    "    print_story()\n",
    "    while not is_win(state):\n",
    "        clear()\n",
    "        print_state(state)\n",
    "        move = get_move()\n",
    "        state = process_move(move, state)\n",
    "\n",
    "    print(\"Well done - you solved the puzzle!\")"
   ]
  },
  {
   "cell_type": "code",
   "execution_count": 11,
   "metadata": {},
   "outputs": [
    {
     "name": "stdout",
     "output_type": "stream",
     "text": [
      "\n",
      "#### WOLF, GOAT and CABBAGE PROBLEM ####\n",
      "\n",
      "Once upon a time a farmer went to a market and purchased a wolf, a goat, and a cabbage. On his way home, the farmer came\n",
      "to the bank of a river and rented a boat. But crossing the river by boat, the farmer could carry only himself and a single\n",
      "one of his purchases: the wolf, the goat, or the cabbage.\n",
      "\n",
      "If left unattended together, the wolf would eat the goat, or the goat would eat the cabbage.\n",
      "\n",
      "The farmer's challenge was to carry himself and his purchases to the far bank of the river, leaving each purchase intact.\n",
      "How did he do it?\n",
      "\n",
      "Press enter to continue.\n",
      "************************************************************ \n",
      "\n",
      "#### CURRENT STATE OF PUZZLE ####\n",
      "\n",
      "['Cabbage', 'Wolf', 'Farmer', 'Goat'] | []\n",
      "Which item do you wish to take across the river?\n",
      "Just Farmer (f), Wolf (w), Goat (g) or Cabbage (c)? F,G\n",
      "Just Farmer (f), Wolf (w), Goat (g) or Cabbage (c)? G\n",
      "\n",
      "************************************************************ \n",
      "\n",
      "#### CURRENT STATE OF PUZZLE ####\n",
      "\n",
      "['Wolf', 'Cabbage'] | ['Farmer', 'Goat']\n",
      "Which item do you wish to take across the river?\n",
      "Just Farmer (f), Wolf (w), Goat (g) or Cabbage (c)? F\n",
      "\n",
      "************************************************************ \n",
      "\n",
      "#### CURRENT STATE OF PUZZLE ####\n",
      "\n",
      "['Wolf', 'Farmer', 'Cabbage'] | ['Goat']\n",
      "Which item do you wish to take across the river?\n",
      "Just Farmer (f), Wolf (w), Goat (g) or Cabbage (c)? F,C\n",
      "Just Farmer (f), Wolf (w), Goat (g) or Cabbage (c)? C\n",
      "\n",
      "************************************************************ \n",
      "\n",
      "#### CURRENT STATE OF PUZZLE ####\n",
      "\n",
      "['Wolf'] | ['Cabbage', 'Farmer', 'Goat']\n",
      "Which item do you wish to take across the river?\n",
      "Just Farmer (f), Wolf (w), Goat (g) or Cabbage (c)? F,G\n",
      "Just Farmer (f), Wolf (w), Goat (g) or Cabbage (c)? G\n",
      "\n",
      "************************************************************ \n",
      "\n",
      "#### CURRENT STATE OF PUZZLE ####\n",
      "\n",
      "['Wolf', 'Farmer', 'Goat'] | ['Cabbage']\n",
      "Which item do you wish to take across the river?\n",
      "Just Farmer (f), Wolf (w), Goat (g) or Cabbage (c)? F,W\n",
      "Just Farmer (f), Wolf (w), Goat (g) or Cabbage (c)? W\n",
      "\n",
      "************************************************************ \n",
      "\n",
      "#### CURRENT STATE OF PUZZLE ####\n",
      "\n",
      "['Goat'] | ['Wolf', 'Farmer', 'Cabbage']\n",
      "Which item do you wish to take across the river?\n",
      "Just Farmer (f), Wolf (w), Goat (g) or Cabbage (c)? F\n",
      "\n",
      "************************************************************ \n",
      "\n",
      "#### CURRENT STATE OF PUZZLE ####\n",
      "\n",
      "['Farmer', 'Goat'] | ['Wolf', 'Cabbage']\n",
      "Which item do you wish to take across the river?\n",
      "Just Farmer (f), Wolf (w), Goat (g) or Cabbage (c)? F,G\n",
      "Just Farmer (f), Wolf (w), Goat (g) or Cabbage (c)? F,G\n",
      "Just Farmer (f), Wolf (w), Goat (g) or Cabbage (c)? G\n",
      "\n",
      "Well done - you solved the puzzle!\n"
     ]
    }
   ],
   "source": [
    "main()"
   ]
  },
  {
   "cell_type": "code",
   "execution_count": null,
   "metadata": {},
   "outputs": [],
   "source": []
  },
  {
   "cell_type": "code",
   "execution_count": null,
   "metadata": {},
   "outputs": [],
   "source": []
  }
 ],
 "metadata": {
  "kernelspec": {
   "display_name": "Python 3",
   "language": "python",
   "name": "python3"
  },
  "language_info": {
   "codemirror_mode": {
    "name": "ipython",
    "version": 3
   },
   "file_extension": ".py",
   "mimetype": "text/x-python",
   "name": "python",
   "nbconvert_exporter": "python",
   "pygments_lexer": "ipython3",
   "version": "3.7.6"
  }
 },
 "nbformat": 4,
 "nbformat_minor": 4
}
